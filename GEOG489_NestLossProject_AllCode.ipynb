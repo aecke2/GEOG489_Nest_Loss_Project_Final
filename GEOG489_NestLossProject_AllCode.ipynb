{
 "cells": [
  {
   "cell_type": "markdown",
   "id": "4896d008-c0c6-4231-a983-869ae2a5ed5d",
   "metadata": {},
   "source": [
    "# Determining Leatherback Sea Turtle (*Dermochelys coriacea*) Nest Loss on Matura Beach (Trinidad, W.I.)  \n",
    "##### *Adam Eckert (Leader, nest loss), David Roegner (Tidelines), Montana Hernandez (Nest loss), Valerie Nelson (Nest loss)*\n",
    "  \n",
    "    \n",
    "  "
   ]
  },
  {
   "cell_type": "markdown",
   "id": "f2a9f52c-7710-4c7c-8c31-193913449688",
   "metadata": {},
   "source": [
    "### Project Objectives\n",
    "##### 1. Determine whether Python could be used to calculate the number of leatherback sea turtle nests lost to tide-caused drowing each year\n",
    "##### 2. Determine whether a trend in the location of the tide lines could be detected, given the data at hand  \n",
    "  \n",
    "  \n",
    "  "
   ]
  },
  {
   "cell_type": "markdown",
   "id": "41a8875c-1682-41a2-b45e-176bf0b5266f",
   "metadata": {},
   "source": [
    "### Project Necessity\n",
    "* The leatherback is a IUCN Redlisted species, with populations declining around the world. Trinidad is home to one of the largest leatherback nesting colonies in the world.\n",
    "* As they cannot nest on beaches with offshore protection (e.g., coral reefs, rocky bottoms), leatherback beaches tend to move considerably throughout the season.\n",
    "* For this reason, leatherbacks frequently select very different locations to nest each time they come ashore to lay their eggs.\n",
    "* The combination of variable placement and high oceanic activity means that some nesting beaches may experience higher nest loss, due to drowing, than others. \n",
    "* The ability to more accurately calculate the number of nests lost to drowning will allow us to better manage the nesting beaches, possibly allowing us to predict and prevent some nest loss.\n",
    "* This is a project that the Wider Caribbean Sea Turtle Conservation Network (WIDECAST) has been working on for many years. Until now, the only tools tried have been graphical and interactive software based (ArcGIS, QGIS, MapInfo). Python, and DIY code, is the next step in this analysis journey. "
   ]
  },
  {
   "cell_type": "markdown",
   "id": "d6d363a7-1f02-4ac4-985f-1248d9749199",
   "metadata": {},
   "source": [
    "### Data Source\n",
    "* All data came from WIDECAST\n",
    "* The data were collected by Garmin eTrex GPS units, and include nest locations (waypoints) and tide line locations (tracklines)\n",
    "* The data were converted from their original form of Garmin Mapsource (GDB) files to ESRI Shapefiles before analysis"
   ]
  },
  {
   "cell_type": "markdown",
   "id": "aa61c607-0f28-4ff2-a258-4f5ed1e9fe5f",
   "metadata": {},
   "source": [
    "# Package Import and Definition of functions"
   ]
  },
  {
   "cell_type": "code",
   "execution_count": 2,
   "id": "0b444fba-dc01-4e5b-839f-127de539caeb",
   "metadata": {},
   "outputs": [],
   "source": [
    "import numpy as np\n",
    "import pandas as pd\n",
    "import geopandas as gpd\n",
    "from scipy import stats\n",
    "from shapely.geometry import Point, LineString\n",
    "import os\n",
    "import numpy as np\n",
    "import matplotlib.pyplot as plt\n",
    "import ipywidgets as widgets\n",
    "import io\n",
    "import datetime as dt\n",
    "import glob\n",
    "from tqdm import tqdm\n",
    "import warnings"
   ]
  },
  {
   "cell_type": "markdown",
   "id": "904244df-e3cb-4bbb-bfd9-d27304cd5779",
   "metadata": {},
   "source": [
    "cleanPoints removes outliers by calculating the point's distance from the mean of the rest of the points in the file"
   ]
  },
  {
   "cell_type": "code",
   "execution_count": 3,
   "id": "0aa5019b-e001-4a45-bdb3-5fd4656f8cc7",
   "metadata": {},
   "outputs": [],
   "source": [
    "def cleanPoints(wpt):\n",
    "    wpt['lat'] = wpt['geometry'].x\n",
    "    wpt['lon'] = wpt['geometry'].y\n",
    "    wpt = wpt[(np.abs(stats.zscore(wpt['lon'])) < 3)]\n",
    "    return wpt"
   ]
  },
  {
   "cell_type": "markdown",
   "id": "1449426b-3244-4e23-adfb-448c75ee2c78",
   "metadata": {},
   "source": [
    "cleanLine receives a trackline (tideline shapefile) and cleans it. It uses the same technique as cleanPoints"
   ]
  },
  {
   "cell_type": "code",
   "execution_count": 4,
   "id": "aab26cfb-5e3e-404c-a792-0a9ecd7a6240",
   "metadata": {},
   "outputs": [],
   "source": [
    "def cleanLine(trk):\n",
    "    trk=trk.reset_index(drop=True)\n",
    "    trk1=trk.geometry[0]\n",
    "    # Turn line into points and add to a list for outlier removal\n",
    "    coords=list(trk1.coords)\n",
    "    lon=[]\n",
    "    lat=[]\n",
    "    i=0\n",
    "    \n",
    "    while i<len(coords):\n",
    "        lon.append(coords[i][0])\n",
    "        lat.append(coords[i][1])\n",
    "        i+=1\n",
    "    df=pd.DataFrame({'lat':lat,'lon':lon})       \n",
    "    df['Coordinates']=list(zip(df.lon,df.lat))\n",
    "    df['Coordinates']=df['Coordinates'].apply(Point)\n",
    "    # Create new geodataframe with the points and clean them based on distance from mean\n",
    "    gdf=gpd.GeoDataFrame(df,geometry='Coordinates')\n",
    "    gdf2 = gdf[(np.abs(stats.zscore(gdf['lon'])) < 2)]\n",
    "    gdf2= gdf2[(np.abs(stats.zscore(gdf['lat'])) < 2.5)]\n",
    "    gdf2 = gdf2.reset_index(drop=True)\n",
    "    # Turn points into a new line\n",
    "    line=LineString(gdf2['Coordinates'])\n",
    "    lines=[line]\n",
    "    df2=pd.DataFrame({'Day':trk['name'][0],'geometry':lines})\n",
    "    tideLine=gpd.GeoDataFrame(df2,geometry='geometry',crs=4326)\n",
    "    return tideLine"
   ]
  },
  {
   "cell_type": "markdown",
   "id": "be648627-75d7-4187-9fe0-c28fc633496e",
   "metadata": {},
   "source": [
    "cleanLineG is similar to cleanLine, but the output has been tweaked slightly to better use for trendline analysis"
   ]
  },
  {
   "cell_type": "code",
   "execution_count": 5,
   "id": "aa3f9499-c8e7-4bb9-9ea4-4a5304cd48db",
   "metadata": {},
   "outputs": [],
   "source": [
    "def cleanLineG(trk1,name):\n",
    "    coords=list(trk1.coords)\n",
    "    lon=[]\n",
    "    lat=[]\n",
    "    i=0\n",
    "    while i<len(coords):\n",
    "        lon.append(coords[i][0])\n",
    "        lat.append(coords[i][1])\n",
    "        i+=1\n",
    "    df=pd.DataFrame({'lat':lat,'lon':lon})\n",
    "    df['Coordinates']=list(zip(df.lon,df.lat))\n",
    "    df['Coordinates']=df['Coordinates'].apply(Point)\n",
    "    gdf=gpd.GeoDataFrame(df,geometry='Coordinates')\n",
    "    \n",
    "    gdf2 = gdf[(np.abs(stats.zscore(gdf['lon'])) < 2)]\n",
    "    gdf2= gdf2[(np.abs(stats.zscore(gdf['lat'])) < 2.5)]\n",
    "    gdf2 = gdf2.reset_index(drop=True)\n",
    "    line=LineString(gdf2['Coordinates'])\n",
    "    lines=[line]\n",
    "    df2=pd.DataFrame({'name':name,'geometry':lines})\n",
    "    tideLine=gpd.GeoDataFrame(df2,geometry='geometry',crs=4326)\n",
    "    return tideLine"
   ]
  },
  {
   "cell_type": "markdown",
   "id": "e1a0fb87-7f32-48bc-9c9a-84e65c929cbd",
   "metadata": {},
   "source": [
    "distance2 calculates the distance between an initial point and a new point for use in trendline analysis"
   ]
  },
  {
   "cell_type": "code",
   "execution_count": 6,
   "id": "69107ce8-a224-41b0-bdb2-23ae63623761",
   "metadata": {},
   "outputs": [],
   "source": [
    "def distance2(initi,point):\n",
    "    return -1*(point.x-initi.x) # Multiplying by -1 make a loss show as positive (i.e.,  tideline moving up beach means ocean is rising and beach is shrinking)"
   ]
  },
  {
   "cell_type": "markdown",
   "id": "574d122f-7a10-4903-bc17-c624d7a0d7d4",
   "metadata": {},
   "source": [
    "# Determine the trend in high tideline movement, 2011-2019"
   ]
  },
  {
   "cell_type": "markdown",
   "id": "39a92b23-83b1-4c7e-900b-aa9350a83a25",
   "metadata": {
    "tags": []
   },
   "source": [
    "### 1. Import tideline shapfiles and clean them"
   ]
  },
  {
   "cell_type": "markdown",
   "id": "c32cf0d0-a9b3-4642-902d-6dbd294c3778",
   "metadata": {},
   "source": [
    "1a. Create a list of all the shapefiles for the tracks after 2010"
   ]
  },
  {
   "cell_type": "code",
   "execution_count": 23,
   "id": "f27231d3-41ee-4885-81f8-ca25e02009c7",
   "metadata": {},
   "outputs": [],
   "source": [
    "years = os.listdir('./Tracks/')\n",
    "indFiles=[]\n",
    "for f in years:\n",
    "    temp=os.listdir('Tracks/'+str(f)+'/')\n",
    "    temp=['./Tracks/'+str(f)+'/'+ls for ls in temp]\n",
    "    temp = [x for x in temp if '.shp' in str(x)]\n",
    "    temp = [y for y in temp if '.shp.' not in str(y)]\n",
    "    temp = [z for z in temp if 'y10' not in str(z)]\n",
    "    temp = [a for a in temp if 'e10' not in str(a)]\n",
    "    temp = [b for b in temp if 't10' not in str(b)]\n",
    "    indFiles=indFiles+temp"
   ]
  },
  {
   "cell_type": "markdown",
   "id": "bbf18a2f-5c34-4963-aa0d-f3ed8d039cd2",
   "metadata": {},
   "source": [
    "1b. Create a new GeoDataFrame with all the tracks in the data sorted by date"
   ]
  },
  {
   "cell_type": "code",
   "execution_count": 24,
   "id": "f132faf7-e832-4f6c-8ec8-659f7dfb1edf",
   "metadata": {},
   "outputs": [],
   "source": [
    "warnings.filterwarnings(\"ignore\", category=FutureWarning)\n",
    "\n",
    "allLines= gpd.GeoDataFrame(columns=['name', 'geometry'], geometry='geometry')\n",
    "for i in indFiles:\n",
    "    try:\n",
    "        trks = gpd.read_file(i)\n",
    "        if len(trks)>0:\n",
    "            allLines=allLines.append(trks)\n",
    "    except ValueError:\n",
    "        continue\n",
    "allLines= allLines[allLines[\"name\"].str.contains(\"-\")==True]\n",
    "allLines['name'] = pd.to_datetime(allLines['name'])\n",
    "allLines=allLines.sort_values(by='name')\n",
    "allLines=allLines.drop_duplicates('name')\n",
    "allLines=allLines.iloc[1: , :]\n",
    "allLines=allLines.reset_index(drop=True)"
   ]
  },
  {
   "cell_type": "markdown",
   "id": "21d7d017-7843-44e5-afa5-e671f4ede220",
   "metadata": {},
   "source": [
    "1c. Clean the lines and store them all in a DataFrame"
   ]
  },
  {
   "cell_type": "code",
   "execution_count": 25,
   "id": "6ff7f20b-1b1b-4c8c-a7e0-ee54666a20e6",
   "metadata": {},
   "outputs": [
    {
     "name": "stderr",
     "output_type": "stream",
     "text": [
      "100%|██████████| 890/890 [01:03<00:00, 13.96it/s]\n"
     ]
    }
   ],
   "source": [
    "warnings.filterwarnings(\"ignore\")\n",
    "final=[]\n",
    "j=0\n",
    "for j in tqdm(range(len(allLines))):\n",
    "    trkg=allLines.loc[j]['geometry']\n",
    "    c=cleanLineG(trkg,allLines.loc[j]['name'])\n",
    "    ls=[c]\n",
    "    final= final+ls\n"
   ]
  },
  {
   "cell_type": "markdown",
   "id": "aeec48f8-af0f-487b-be9d-7fcac419f486",
   "metadata": {},
   "source": [
    "### 2. Place shapefiles into their respective month/year DataFrames"
   ]
  },
  {
   "cell_type": "code",
   "execution_count": 26,
   "id": "690425ac-88bb-405d-a144-33d227dc62a8",
   "metadata": {},
   "outputs": [],
   "source": [
    "jan11=[x for x in final if pd.to_datetime(x['name'].values[0]).year==2011 and pd.to_datetime(x['name'].values[0]).month==1]\n",
    "feb11=[x for x in final if pd.to_datetime(x['name'].values[0]).year==2011 and pd.to_datetime(x['name'].values[0]).month==2]\n",
    "mar11=[x for x in final if pd.to_datetime(x['name'].values[0]).year==2011 and pd.to_datetime(x['name'].values[0]).month==3]\n",
    "apr11=[x for x in final if pd.to_datetime(x['name'].values[0]).year==2011 and pd.to_datetime(x['name'].values[0]).month==4]\n",
    "may11=[x for x in final if pd.to_datetime(x['name'].values[0]).year==2011 and pd.to_datetime(x['name'].values[0]).month==5]\n",
    "jun11=[x for x in final if pd.to_datetime(x['name'].values[0]).year==2011 and pd.to_datetime(x['name'].values[0]).month==6]\n",
    "jul11=[x for x in final if pd.to_datetime(x['name'].values[0]).year==2011 and pd.to_datetime(x['name'].values[0]).month==7]\n",
    "aug11=[x for x in final if pd.to_datetime(x['name'].values[0]).year==2011 and pd.to_datetime(x['name'].values[0]).month==8]\n",
    "sep11=[x for x in final if pd.to_datetime(x['name'].values[0]).year==2011 and pd.to_datetime(x['name'].values[0]).month==9]\n",
    "oct11=[x for x in final if pd.to_datetime(x['name'].values[0]).year==2011 and pd.to_datetime(x['name'].values[0]).month==10]\n",
    "nov11=[x for x in final if pd.to_datetime(x['name'].values[0]).year==2011 and pd.to_datetime(x['name'].values[0]).month==11]\n",
    "dec11=[x for x in final if pd.to_datetime(x['name'].values[0]).year==2011 and pd.to_datetime(x['name'].values[0]).month==12]\n",
    "\n",
    "jan12=[x for x in final if pd.to_datetime(x['name'].values[0]).year==2012 and pd.to_datetime(x['name'].values[0]).month==1]\n",
    "feb12=[x for x in final if pd.to_datetime(x['name'].values[0]).year==2012 and pd.to_datetime(x['name'].values[0]).month==2]\n",
    "mar12=[x for x in final if pd.to_datetime(x['name'].values[0]).year==2012 and pd.to_datetime(x['name'].values[0]).month==3]\n",
    "apr12=[x for x in final if pd.to_datetime(x['name'].values[0]).year==2012 and pd.to_datetime(x['name'].values[0]).month==4]\n",
    "may12=[x for x in final if pd.to_datetime(x['name'].values[0]).year==2011 and pd.to_datetime(x['name'].values[0]).month==5]\n",
    "jun12=[x for x in final if pd.to_datetime(x['name'].values[0]).year==2012 and pd.to_datetime(x['name'].values[0]).month==6]\n",
    "jul12=[x for x in final if pd.to_datetime(x['name'].values[0]).year==2012 and pd.to_datetime(x['name'].values[0]).month==7]\n",
    "aug12=[x for x in final if pd.to_datetime(x['name'].values[0]).year==2012 and pd.to_datetime(x['name'].values[0]).month==8]\n",
    "sep12=[x for x in final if pd.to_datetime(x['name'].values[0]).year==2012 and pd.to_datetime(x['name'].values[0]).month==9]\n",
    "oct12=[x for x in final if pd.to_datetime(x['name'].values[0]).year==2012 and pd.to_datetime(x['name'].values[0]).month==10]\n",
    "nov12=[x for x in final if pd.to_datetime(x['name'].values[0]).year==2012 and pd.to_datetime(x['name'].values[0]).month==11]\n",
    "dec12=[x for x in final if pd.to_datetime(x['name'].values[0]).year==2012 and pd.to_datetime(x['name'].values[0]).month==12]\n",
    "\n",
    "jan13=[x for x in final if pd.to_datetime(x['name'].values[0]).year==2013 and pd.to_datetime(x['name'].values[0]).month==1]\n",
    "feb13=[x for x in final if pd.to_datetime(x['name'].values[0]).year==2013 and pd.to_datetime(x['name'].values[0]).month==2]\n",
    "mar13=[x for x in final if pd.to_datetime(x['name'].values[0]).year==2013 and pd.to_datetime(x['name'].values[0]).month==3]\n",
    "apr13=[x for x in final if pd.to_datetime(x['name'].values[0]).year==2013 and pd.to_datetime(x['name'].values[0]).month==4]\n",
    "may13=[x for x in final if pd.to_datetime(x['name'].values[0]).year==2013 and pd.to_datetime(x['name'].values[0]).month==5]\n",
    "jun13=[x for x in final if pd.to_datetime(x['name'].values[0]).year==2013 and pd.to_datetime(x['name'].values[0]).month==6]\n",
    "jul13=[x for x in final if pd.to_datetime(x['name'].values[0]).year==2013 and pd.to_datetime(x['name'].values[0]).month==7]\n",
    "aug13=[x for x in final if pd.to_datetime(x['name'].values[0]).year==2013 and pd.to_datetime(x['name'].values[0]).month==8]\n",
    "sep13=[x for x in final if pd.to_datetime(x['name'].values[0]).year==2013 and pd.to_datetime(x['name'].values[0]).month==9]\n",
    "oct13=[x for x in final if pd.to_datetime(x['name'].values[0]).year==2013 and pd.to_datetime(x['name'].values[0]).month==10]\n",
    "nov13=[x for x in final if pd.to_datetime(x['name'].values[0]).year==2013 and pd.to_datetime(x['name'].values[0]).month==11]\n",
    "dec13=[x for x in final if pd.to_datetime(x['name'].values[0]).year==2013 and pd.to_datetime(x['name'].values[0]).month==12]\n",
    "\n",
    "jan14=[x for x in final if pd.to_datetime(x['name'].values[0]).year==2014 and pd.to_datetime(x['name'].values[0]).month==1]\n",
    "feb14=[x for x in final if pd.to_datetime(x['name'].values[0]).year==2014 and pd.to_datetime(x['name'].values[0]).month==2]\n",
    "mar14=[x for x in final if pd.to_datetime(x['name'].values[0]).year==2014 and pd.to_datetime(x['name'].values[0]).month==3]\n",
    "apr14=[x for x in final if pd.to_datetime(x['name'].values[0]).year==2014 and pd.to_datetime(x['name'].values[0]).month==4]\n",
    "may14=[x for x in final if pd.to_datetime(x['name'].values[0]).year==2014 and pd.to_datetime(x['name'].values[0]).month==5]\n",
    "jun14=[x for x in final if pd.to_datetime(x['name'].values[0]).year==2014 and pd.to_datetime(x['name'].values[0]).month==6]\n",
    "jul14=[x for x in final if pd.to_datetime(x['name'].values[0]).year==2014 and pd.to_datetime(x['name'].values[0]).month==7]\n",
    "aug14=[x for x in final if pd.to_datetime(x['name'].values[0]).year==2014 and pd.to_datetime(x['name'].values[0]).month==8]\n",
    "sep14=[x for x in final if pd.to_datetime(x['name'].values[0]).year==2014 and pd.to_datetime(x['name'].values[0]).month==9]\n",
    "oct14=[x for x in final if pd.to_datetime(x['name'].values[0]).year==2014 and pd.to_datetime(x['name'].values[0]).month==10]\n",
    "nov14=[x for x in final if pd.to_datetime(x['name'].values[0]).year==2014 and pd.to_datetime(x['name'].values[0]).month==11]\n",
    "dec14=[x for x in final if pd.to_datetime(x['name'].values[0]).year==2014 and pd.to_datetime(x['name'].values[0]).month==12]\n",
    "\n",
    "jan15=[x for x in final if pd.to_datetime(x['name'].values[0]).year==2015 and pd.to_datetime(x['name'].values[0]).month==1]\n",
    "feb15=[x for x in final if pd.to_datetime(x['name'].values[0]).year==2015 and pd.to_datetime(x['name'].values[0]).month==2]\n",
    "mar15=[x for x in final if pd.to_datetime(x['name'].values[0]).year==2015 and pd.to_datetime(x['name'].values[0]).month==3]\n",
    "apr15=[x for x in final if pd.to_datetime(x['name'].values[0]).year==2015 and pd.to_datetime(x['name'].values[0]).month==4]\n",
    "may15=[x for x in final if pd.to_datetime(x['name'].values[0]).year==2015 and pd.to_datetime(x['name'].values[0]).month==5]\n",
    "jun15=[x for x in final if pd.to_datetime(x['name'].values[0]).year==2015 and pd.to_datetime(x['name'].values[0]).month==6]\n",
    "jul15=[x for x in final if pd.to_datetime(x['name'].values[0]).year==2015 and pd.to_datetime(x['name'].values[0]).month==7]\n",
    "aug15=[x for x in final if pd.to_datetime(x['name'].values[0]).year==2015 and pd.to_datetime(x['name'].values[0]).month==8]\n",
    "sep15=[x for x in final if pd.to_datetime(x['name'].values[0]).year==2015 and pd.to_datetime(x['name'].values[0]).month==9]\n",
    "oct15=[x for x in final if pd.to_datetime(x['name'].values[0]).year==2015 and pd.to_datetime(x['name'].values[0]).month==10]\n",
    "nov15=[x for x in final if pd.to_datetime(x['name'].values[0]).year==2015 and pd.to_datetime(x['name'].values[0]).month==11]\n",
    "dec15=[x for x in final if pd.to_datetime(x['name'].values[0]).year==2015 and pd.to_datetime(x['name'].values[0]).month==12]\n",
    "\n",
    "jan16=[x for x in final if pd.to_datetime(x['name'].values[0]).year==2016 and pd.to_datetime(x['name'].values[0]).month==1]\n",
    "feb16=[x for x in final if pd.to_datetime(x['name'].values[0]).year==2016 and pd.to_datetime(x['name'].values[0]).month==2]\n",
    "mar16=[x for x in final if pd.to_datetime(x['name'].values[0]).year==2016 and pd.to_datetime(x['name'].values[0]).month==3]\n",
    "apr16=[x for x in final if pd.to_datetime(x['name'].values[0]).year==2016 and pd.to_datetime(x['name'].values[0]).month==4]\n",
    "may16=[x for x in final if pd.to_datetime(x['name'].values[0]).year==2016 and pd.to_datetime(x['name'].values[0]).month==5]\n",
    "jun16=[x for x in final if pd.to_datetime(x['name'].values[0]).year==2016 and pd.to_datetime(x['name'].values[0]).month==6]\n",
    "jul16=[x for x in final if pd.to_datetime(x['name'].values[0]).year==2016 and pd.to_datetime(x['name'].values[0]).month==7]\n",
    "aug16=[x for x in final if pd.to_datetime(x['name'].values[0]).year==2016 and pd.to_datetime(x['name'].values[0]).month==8]\n",
    "sep16=[x for x in final if pd.to_datetime(x['name'].values[0]).year==2016 and pd.to_datetime(x['name'].values[0]).month==9]\n",
    "oct16=[x for x in final if pd.to_datetime(x['name'].values[0]).year==2016 and pd.to_datetime(x['name'].values[0]).month==10]\n",
    "nov16=[x for x in final if pd.to_datetime(x['name'].values[0]).year==2016 and pd.to_datetime(x['name'].values[0]).month==11]\n",
    "dec16=[x for x in final if pd.to_datetime(x['name'].values[0]).year==2016 and pd.to_datetime(x['name'].values[0]).month==12]\n",
    "\n",
    "jan17=[x for x in final if pd.to_datetime(x['name'].values[0]).year==2017 and pd.to_datetime(x['name'].values[0]).month==1]\n",
    "feb17=[x for x in final if pd.to_datetime(x['name'].values[0]).year==2017 and pd.to_datetime(x['name'].values[0]).month==2]\n",
    "mar17=[x for x in final if pd.to_datetime(x['name'].values[0]).year==2017 and pd.to_datetime(x['name'].values[0]).month==3]\n",
    "apr17=[x for x in final if pd.to_datetime(x['name'].values[0]).year==2017 and pd.to_datetime(x['name'].values[0]).month==4]\n",
    "may17=[x for x in final if pd.to_datetime(x['name'].values[0]).year==2017 and pd.to_datetime(x['name'].values[0]).month==5]\n",
    "jun17=[x for x in final if pd.to_datetime(x['name'].values[0]).year==2017 and pd.to_datetime(x['name'].values[0]).month==6]\n",
    "jul17=[x for x in final if pd.to_datetime(x['name'].values[0]).year==2017 and pd.to_datetime(x['name'].values[0]).month==7]\n",
    "aug17=[x for x in final if pd.to_datetime(x['name'].values[0]).year==2017 and pd.to_datetime(x['name'].values[0]).month==8]\n",
    "sep17=[x for x in final if pd.to_datetime(x['name'].values[0]).year==2017 and pd.to_datetime(x['name'].values[0]).month==9]\n",
    "oct17=[x for x in final if pd.to_datetime(x['name'].values[0]).year==2017 and pd.to_datetime(x['name'].values[0]).month==10]\n",
    "nov17=[x for x in final if pd.to_datetime(x['name'].values[0]).year==2017 and pd.to_datetime(x['name'].values[0]).month==11]\n",
    "dec17=[x for x in final if pd.to_datetime(x['name'].values[0]).year==2017 and pd.to_datetime(x['name'].values[0]).month==12]\n",
    "\n",
    "jan18=[x for x in final if pd.to_datetime(x['name'].values[0]).year==2018 and pd.to_datetime(x['name'].values[0]).month==1]\n",
    "feb18=[x for x in final if pd.to_datetime(x['name'].values[0]).year==2018 and pd.to_datetime(x['name'].values[0]).month==2]\n",
    "mar18=[x for x in final if pd.to_datetime(x['name'].values[0]).year==2018 and pd.to_datetime(x['name'].values[0]).month==3]\n",
    "apr18=[x for x in final if pd.to_datetime(x['name'].values[0]).year==2018 and pd.to_datetime(x['name'].values[0]).month==4]\n",
    "may18=[x for x in final if pd.to_datetime(x['name'].values[0]).year==2018 and pd.to_datetime(x['name'].values[0]).month==5]\n",
    "jun18=[x for x in final if pd.to_datetime(x['name'].values[0]).year==2018 and pd.to_datetime(x['name'].values[0]).month==6]\n",
    "jul18=[x for x in final if pd.to_datetime(x['name'].values[0]).year==2018 and pd.to_datetime(x['name'].values[0]).month==7]\n",
    "aug18=[x for x in final if pd.to_datetime(x['name'].values[0]).year==2018 and pd.to_datetime(x['name'].values[0]).month==8]\n",
    "sep18=[x for x in final if pd.to_datetime(x['name'].values[0]).year==2018 and pd.to_datetime(x['name'].values[0]).month==9]\n",
    "oct18=[x for x in final if pd.to_datetime(x['name'].values[0]).year==2018 and pd.to_datetime(x['name'].values[0]).month==10]\n",
    "nov18=[x for x in final if pd.to_datetime(x['name'].values[0]).year==2018 and pd.to_datetime(x['name'].values[0]).month==11]\n",
    "dec18=[x for x in final if pd.to_datetime(x['name'].values[0]).year==2018 and pd.to_datetime(x['name'].values[0]).month==12]\n",
    "\n",
    "jan19=[x for x in final if pd.to_datetime(x['name'].values[0]).year==2019 and pd.to_datetime(x['name'].values[0]).month==1]\n",
    "feb19=[x for x in final if pd.to_datetime(x['name'].values[0]).year==2019 and pd.to_datetime(x['name'].values[0]).month==2]\n",
    "mar19=[x for x in final if pd.to_datetime(x['name'].values[0]).year==2019 and pd.to_datetime(x['name'].values[0]).month==3]\n",
    "apr19=[x for x in final if pd.to_datetime(x['name'].values[0]).year==2019 and pd.to_datetime(x['name'].values[0]).month==4]\n",
    "may19=[x for x in final if pd.to_datetime(x['name'].values[0]).year==2019 and pd.to_datetime(x['name'].values[0]).month==5]\n",
    "jun19=[x for x in final if pd.to_datetime(x['name'].values[0]).year==2019 and pd.to_datetime(x['name'].values[0]).month==6]\n",
    "jul19=[x for x in final if pd.to_datetime(x['name'].values[0]).year==2019 and pd.to_datetime(x['name'].values[0]).month==7]\n",
    "aug19=[x for x in final if pd.to_datetime(x['name'].values[0]).year==2019 and pd.to_datetime(x['name'].values[0]).month==8]\n",
    "sep19=[x for x in final if pd.to_datetime(x['name'].values[0]).year==2019 and pd.to_datetime(x['name'].values[0]).month==9]\n",
    "oct19=[x for x in final if pd.to_datetime(x['name'].values[0]).year==2019 and pd.to_datetime(x['name'].values[0]).month==10]\n",
    "nov19=[x for x in final if pd.to_datetime(x['name'].values[0]).year==2019 and pd.to_datetime(x['name'].values[0]).month==11]\n",
    "dec19=[x for x in final if pd.to_datetime(x['name'].values[0]).year==2019 and pd.to_datetime(x['name'].values[0]).month==12]"
   ]
  },
  {
   "cell_type": "markdown",
   "id": "73e14f06-4cff-43e2-aa2e-89391d538630",
   "metadata": {},
   "source": [
    "### 3. Calculate the changes in tideline locations"
   ]
  },
  {
   "cell_type": "markdown",
   "id": "35d19e4f-477f-409e-9eb1-6d7d801a03fb",
   "metadata": {},
   "source": [
    "3a. Create a list of months for which to do trendline analysis. Only months with 5 or more lines are used."
   ]
  },
  {
   "cell_type": "code",
   "execution_count": 27,
   "id": "1f7d8276-684c-4d31-a00b-31fbc7c3e4ac",
   "metadata": {},
   "outputs": [],
   "source": [
    "alldata=[jan11,feb11,mar11,apr11,may11,jun11,jul11,aug11,sep11,oct11,nov11,dec11,\n",
    "         jan12,feb12,mar12,apr12,may12,jun12,jul12,aug12,sep12,oct12,nov12,dec12,\n",
    "         jan13,feb13,mar13,apr13,may13,jun13,jul13,aug13,sep13,oct13,nov13,dec13,\n",
    "         jan14,feb14,mar14,apr14,may14,jun14,jul14,aug14,sep14,oct14,nov14,dec14,\n",
    "         jan15,feb15,mar15,apr15,may15,jun15,jul15,aug15,sep15,oct15,nov15,dec15,\n",
    "         jan16,feb16,mar16,apr16,may16,jun16,jul16,aug16,sep16,oct16,nov16,dec16,\n",
    "         jan17,feb17,mar17,apr17,may17,jun17,jul17,aug17,sep17,oct17,nov17,dec17,\n",
    "         jan18,feb18,mar18,apr18,may18,jun18,jul18,aug18,sep18,oct18,nov18,dec18,\n",
    "         jan19,feb19,mar19,apr19,may19,jun19,jul19,aug19,sep19,oct19,nov19,dec19]\n",
    "monthY=['jan11','feb11','mar11','apr11','may11','jun11','jul11','aug11','sep11','oct11','nov11','dec11',\n",
    "         'jan12','feb12','mar12','apr12','may12','jun12','jul12','aug12','sep12','oct12','nov12','dec12',\n",
    "         'jan13','feb13','mar13','apr13','may13','jun13','jul13','aug13','sep13','oct13','nov13','dec13',\n",
    "         'jan14','feb14','mar14','apr14','may14','jun14','jul14','aug14','sep14','oct14','nov14','dec14',\n",
    "         'jan15','feb15','mar15','apr15','may15','jun15','jul15','aug15','sep15','oct15','nov15','dec15',\n",
    "         'jan16','feb16','mar16','apr16','may16','jun16','jul16','aug16','sep16','oct16','nov16','dec16',\n",
    "         'jan17','feb17','mar17','apr17','may17','jun17','jul17','aug17','sep17','oct17','nov17','dec17',\n",
    "         'jan18','feb18','mar18','apr18','may18','jun18','jul18','aug18','sep18','oct18','nov18','dec18',\n",
    "         'jan19','feb19','mar19','apr19','may19','jun19','jul19','aug19','sep19','oct19','nov19','dec19']\n",
    "del alldata[50][1]\n",
    "alldata2=[]\n",
    "monthsGood=[]\n",
    "for i in range(len(alldata)):\n",
    "    if len(alldata[i])>4:\n",
    "        alldata2.append(alldata[i])\n",
    "        monthsGood.append(monthY[i])\n",
    "    else:\n",
    "        alldata2.append(0)\n",
    "        monthsGood.append(monthY[i])\n",
    "        "
   ]
  },
  {
   "cell_type": "markdown",
   "id": "9e40a351-b709-42b2-8ff2-b086f1493d79",
   "metadata": {},
   "source": [
    "3b. Calculate the average latitude for selected months and assigns the initial latitude for montsh with less than 5 lines"
   ]
  },
  {
   "cell_type": "code",
   "execution_count": 29,
   "id": "183cf060-395c-48ee-8f43-568b10fa000e",
   "metadata": {},
   "outputs": [],
   "source": [
    "average=[]\n",
    "for ls in alldata2:\n",
    "    if ls !=0:\n",
    "        tomean=[]\n",
    "        for z in ls:\n",
    "            try:\n",
    "                center=z.centroid.values[0]\n",
    "                if center != 'EMPTY':\n",
    "                    tomean.append(center.x)\n",
    "            except IndexError:\n",
    "                continue\n",
    "        average.append(np.average(tomean))\n",
    "    else:\n",
    "        average.append(-61.034890858899516)"
   ]
  },
  {
   "cell_type": "markdown",
   "id": "28e56c10-a3d7-472a-9e7d-80e25949ef6d",
   "metadata": {},
   "source": [
    "3c. Create a GeoDataFrame of the points with a projection that has a unit of meters (UTM Zone 20N)"
   ]
  },
  {
   "cell_type": "code",
   "execution_count": 30,
   "id": "5bf4b054-54fe-4432-8c5a-5f02cd3ba3e8",
   "metadata": {
    "jp-MarkdownHeadingCollapsed": true,
    "tags": []
   },
   "outputs": [],
   "source": [
    "y1=[]\n",
    "for y in range(len(average)):\n",
    "    y1.append(10.637)\n",
    "points=gpd.points_from_xy(average, y1, crs=4326)\n",
    "points=points.to_crs(epsg=32620)"
   ]
  },
  {
   "cell_type": "markdown",
   "id": "ce2df732-873c-4a4b-8bf0-b8663a281993",
   "metadata": {},
   "source": [
    "3d. Calculate the change in latitude from the initial month"
   ]
  },
  {
   "cell_type": "code",
   "execution_count": 31,
   "id": "daf936ae-4e71-45f3-97ce-3d7b367963ef",
   "metadata": {},
   "outputs": [],
   "source": [
    "initial=points[0]\n",
    "distance=[]\n",
    "for point in points:\n",
    "    val=distance2(initial,point)\n",
    "    distance.append(val)"
   ]
  },
  {
   "cell_type": "markdown",
   "id": "6ce4723c-5de8-4d6d-8691-3b7665df5f4a",
   "metadata": {},
   "source": [
    "3e. Plot the data for the change in tide over time"
   ]
  },
  {
   "cell_type": "code",
   "execution_count": 32,
   "id": "09235151-1a31-438f-a466-765d3c29c68c",
   "metadata": {},
   "outputs": [
    {
     "data": {
      "text/plain": [
       "<function matplotlib.pyplot.show(close=None, block=None)>"
      ]
     },
     "execution_count": 32,
     "metadata": {},
     "output_type": "execute_result"
    },
    {
     "data": {
      "image/png": "[encoded data removed]",
      "text/plain": [
       "<Figure size 1440x576 with 1 Axes>"
      ]
     },
     "metadata": {
      "needs_background": "light"
     },
     "output_type": "display_data"
    }
   ],
   "source": [
    "fig,ax=plt.subplots(figsize=(20,8))\n",
    "ax.plot(monthsGood,distance)\n",
    "plt.xticks(rotation=90)\n",
    "plt.grid()\n",
    "plt.xlabel('Date')\n",
    "plt.ylabel('Change from March of 2011')\n",
    "plt.title('High Tide Change Over Time')\n",
    "plt.savefig('TrendLine.png')\n",
    "plt.show"
   ]
  },
  {
   "cell_type": "markdown",
   "id": "d946a63c-c4fe-4b78-bf9c-4897b6de53da",
   "metadata": {},
   "source": [
    "# Determining The Number of Lost Nests, Per Year, on Matura Beach"
   ]
  },
  {
   "cell_type": "markdown",
   "id": "e1a90f84-e9f8-4135-b1d5-14e10395ac67",
   "metadata": {},
   "source": [
    "### 1. Ask User for location of data (or define your own pathway), and target Year"
   ]
  },
  {
   "cell_type": "markdown",
   "id": "f69df3e7-e031-4548-acf3-3f4c8ef3700f",
   "metadata": {},
   "source": [
    "The pathway should contain all information up to the parent folder that holds all year folders, and should end with a /\n",
    "\n",
    "Within the parent folder, there must be two folders: TRK_SHP holds the tide line shapefiles, WPT_SHP holds the nest shapefiles"
   ]
  },
  {
   "cell_type": "code",
   "execution_count": 12,
   "id": "121e0a9f-0b44-4a5e-96c1-4d46fb94c71c",
   "metadata": {},
   "outputs": [
    {
     "name": "stdin",
     "output_type": "stream",
     "text": [
      "Which year are you analyzing?  2011\n"
     ]
    }
   ],
   "source": [
    "# Define GitHub Directory for Data\n",
    "# gh_path = 'C:/Users/aecke/OneDrive/ACTIVE/UIS/Spring_2022/GEOG489/GitHub/GEOG489_Nest_Loss/'\n",
    "\n",
    "# Ask User for data pathway\n",
    "# gh_path = input(\"Data Pathway:\")\n",
    "# gh_path\n",
    "\n",
    "##### Use this for the Demo #####\n",
    "gh_path = './Data_Loss/'\n",
    "year_count = input(\"Which year are you analyzing? \")"
   ]
  },
  {
   "cell_type": "markdown",
   "id": "e2e6c050-eadc-49cb-9f3e-752c8b15bc11",
   "metadata": {},
   "source": [
    "### 2. Load all the tide lines found in the target year's folder"
   ]
  },
  {
   "cell_type": "code",
   "execution_count": 13,
   "id": "2161b9b9-adf1-43fd-aafe-e6f4b626a031",
   "metadata": {},
   "outputs": [
    {
     "name": "stdout",
     "output_type": "stream",
     "text": [
      "                 name                                           geometry  \\\n",
      "0           31-JUL-10  LINESTRING (-61.03113 10.63007, -61.03116 10.6...   \n",
      "1           31-JUL-10  LINESTRING (-61.03113 10.63007, -61.03116 10.6...   \n",
      "2      ACTIVE LOG 005  LINESTRING (-61.02729 10.61430, -61.02728 10.6...   \n",
      "3           01-MAY-11  LINESTRING (-61.03555 10.65196, -61.03551 10.6...   \n",
      "4          ACTIVE LOG  LINESTRING (-61.03555 10.65196, -61.03554 10.6...   \n",
      "...               ...                                                ...   \n",
      "19373  ACTIVE LOG 002  LINESTRING (-61.03416 10.65171, -61.03436 10.6...   \n",
      "19374  ACTIVE LOG 003  LINESTRING (-61.03305 10.63929, -61.03310 10.6...   \n",
      "19375  ACTIVE LOG 004  LINESTRING (-61.03266 10.63710, -61.03262 10.6...   \n",
      "19376  ACTIVE LOG 005  LINESTRING (-61.03036 10.62721, -61.03036 10.6...   \n",
      "19377  ACTIVE LOG 003  LINESTRING (-61.02729 10.61440, -61.02728 10.6...   \n",
      "\n",
      "         Date  \n",
      "0      010411  \n",
      "1      010411  \n",
      "2      010411  \n",
      "3      010511  \n",
      "4      010511  \n",
      "...       ...  \n",
      "19373  310511  \n",
      "19374  310511  \n",
      "19375  310511  \n",
      "19376  310511  \n",
      "19377  310511  \n",
      "\n",
      "[19378 rows x 3 columns]\n"
     ]
    },
    {
     "data": {
      "text/plain": [
       "<AxesSubplot:>"
      ]
     },
     "execution_count": 13,
     "metadata": {},
     "output_type": "execute_result"
    },
    {
     "data": {
      "image/png": "[encoded data removed]",
      "text/plain": [
       "<Figure size 432x288 with 1 Axes>"
      ]
     },
     "metadata": {
      "needs_background": "light"
     },
     "output_type": "display_data"
    }
   ],
   "source": [
    "# Suppress warnings about code depreciation\n",
    "warnings.filterwarnings(\"ignore\", category=FutureWarning)\n",
    "\n",
    "# Creates the dataframe that will hold all the year's tidelines\n",
    "trks_any = gpd.GeoDataFrame()\n",
    "\n",
    "for filename_path in glob.iglob(f'{gh_path}{year_count}/TRK_SHP/*.shp'):\n",
    "    # print(filename_path)\n",
    "    # There are some files that throw errors for some reason, so this is a dirty way of ignore those files and continuing with the loop\n",
    "    try:\n",
    "        temp_shp = gpd.read_file(filename_path)\n",
    "    except:\n",
    "        pass\n",
    "    \n",
    "    # Check to make sure there are lines in the shapefile before trying to process them. If there are lines, then the code can continue\n",
    "    if len(temp_shp) > 0:\n",
    "        for i in range(len(temp_shp)):\n",
    "            \n",
    "            # print(temp_shp)\n",
    "            # print(temp_shp.iloc[i])\n",
    "            filename = os.path.basename(filename_path)\n",
    "\n",
    "            filedate = filename[ :6]\n",
    "            # print(filedate)\n",
    "            \n",
    "            temp_shp['Date'] = filedate\n",
    "            # print(temp_shp)\n",
    "            \n",
    "            trks_any = trks_any.append(temp_shp)\n",
    "\n",
    "# Reset the index of the new tide line dataframe, then print and plot it for confirmation of sucessful loading\n",
    "trks_any.reset_index(drop=True, inplace=True)\n",
    "print(trks_any)\n",
    "trks_any.plot()"
   ]
  },
  {
   "cell_type": "markdown",
   "id": "7bb35ce8-5c0d-4b26-8383-da4e88b7e2af",
   "metadata": {},
   "source": [
    "### 3. Clean the tide lines of outliers, project them, and add their dates"
   ]
  },
  {
   "cell_type": "markdown",
   "id": "3253cf5e-014e-454c-9623-42b85884a283",
   "metadata": {},
   "source": [
    "3a. Clean and project shapefiles"
   ]
  },
  {
   "cell_type": "code",
   "execution_count": 14,
   "id": "e172362c-171d-4ff5-8f7f-61d46582557a",
   "metadata": {},
   "outputs": [
    {
     "name": "stderr",
     "output_type": "stream",
     "text": [
      "100%|██████████| 19378/19378 [18:07<00:00, 17.81it/s] \n"
     ]
    },
    {
     "name": "stdout",
     "output_type": "stream",
     "text": [
      "                  Day                                           geometry\n",
      "0           31-JUL-10  LINESTRING (715390.956 1175759.464, 715387.512...\n",
      "1           31-JUL-10  LINESTRING (715390.956 1175759.464, 715387.512...\n",
      "2      ACTIVE LOG 005  LINESTRING (715834.616 1173977.029, 715836.139...\n",
      "3           01-MAY-11  LINESTRING (714890.914 1178178.423, 714896.020...\n",
      "4          ACTIVE LOG  LINESTRING (714890.914 1178178.423, 714892.739...\n",
      "...               ...                                                ...\n",
      "19373  ACTIVE LOG 002  LINESTRING (715043.849 1178151.174, 715021.769...\n",
      "19374  ACTIVE LOG 003  LINESTRING (715173.547 1176778.257, 715168.051...\n",
      "19375  ACTIVE LOG 004  LINESTRING (715218.370 1176536.298, 715222.220...\n",
      "19376  ACTIVE LOG 005  LINESTRING (715476.952 1175443.422, 715477.042...\n",
      "19377  ACTIVE LOG 003  LINESTRING (715834.244 1173998.021, 715836.490...\n",
      "\n",
      "[19378 rows x 2 columns]\n"
     ]
    },
    {
     "data": {
      "text/plain": [
       "<AxesSubplot:>"
      ]
     },
     "execution_count": 14,
     "metadata": {},
     "output_type": "execute_result"
    },
    {
     "data": {
      "image/png": "[encoded data removed]",
      "text/plain": [
       "<Figure size 432x288 with 1 Axes>"
      ]
     },
     "metadata": {
      "needs_background": "light"
     },
     "output_type": "display_data"
    }
   ],
   "source": [
    "# Suppress warnings\n",
    "warnings.filterwarnings(\"ignore\", category=UserWarning)\n",
    "\n",
    "# Create DataFrame to hold the cleaned tide lines\n",
    "clean_trks_any = gpd.GeoDataFrame()\n",
    "\n",
    "# Iterate through the tide lines present in the original DataFrame, pass them to the cleanLine function, then append them to the new DataFrame\n",
    "for i in tqdm(range(len(trks_any))):\n",
    "    temp_clean_trk = cleanLine(trks_any.loc[[i]])\n",
    "    # print(temp_clean_trk)\n",
    "    clean_trks_any = clean_trks_any.append(temp_clean_trk)\n",
    "\n",
    "# Reset the new DataFrame's index, project it to the original CRS, then reproject it to Projecte Coordinate System.\n",
    "clean_trks_any.reset_index(drop=True, inplace=True)\n",
    "clean_trks_any = clean_trks_any.set_crs(epsg=4326)\n",
    "clean_trks_any = clean_trks_any.to_crs(epsg=32620)\n",
    "\n",
    "# Once again, print and plot to confirm success\n",
    "print(clean_trks_any)\n",
    "clean_trks_any.plot()"
   ]
  },
  {
   "cell_type": "markdown",
   "id": "b9bbf29e-dd46-4bfb-809a-102c36ce1aed",
   "metadata": {},
   "source": [
    "3b. Join the date from the uncleaned lines to the cleaned lines"
   ]
  },
  {
   "cell_type": "code",
   "execution_count": 15,
   "id": "fa35eef1-5426-4633-ba07-7d03b936577b",
   "metadata": {},
   "outputs": [
    {
     "name": "stdout",
     "output_type": "stream",
     "text": [
      "                  Day                                           geometry  \\\n",
      "0           31-JUL-10  LINESTRING (715390.956 1175759.464, 715387.512...   \n",
      "1           31-JUL-10  LINESTRING (715390.956 1175759.464, 715387.512...   \n",
      "2      ACTIVE LOG 005  LINESTRING (715834.616 1173977.029, 715836.139...   \n",
      "3           01-MAY-11  LINESTRING (714890.914 1178178.423, 714896.020...   \n",
      "4          ACTIVE LOG  LINESTRING (714890.914 1178178.423, 714892.739...   \n",
      "...               ...                                                ...   \n",
      "19373  ACTIVE LOG 002  LINESTRING (715043.849 1178151.174, 715021.769...   \n",
      "19374  ACTIVE LOG 003  LINESTRING (715173.547 1176778.257, 715168.051...   \n",
      "19375  ACTIVE LOG 004  LINESTRING (715218.370 1176536.298, 715222.220...   \n",
      "19376  ACTIVE LOG 005  LINESTRING (715476.952 1175443.422, 715477.042...   \n",
      "19377  ACTIVE LOG 003  LINESTRING (715834.244 1173998.021, 715836.490...   \n",
      "\n",
      "         Date  \n",
      "0      010411  \n",
      "1      010411  \n",
      "2      010411  \n",
      "3      010511  \n",
      "4      010511  \n",
      "...       ...  \n",
      "19373  310511  \n",
      "19374  310511  \n",
      "19375  310511  \n",
      "19376  310511  \n",
      "19377  310511  \n",
      "\n",
      "[19378 rows x 3 columns]\n"
     ]
    }
   ],
   "source": [
    "clean_trks_any = clean_trks_any.merge(trks_any[['Date']], left_index=True, right_index=True)\n",
    "print(clean_trks_any)"
   ]
  },
  {
   "cell_type": "markdown",
   "id": "3bccdb00-8dc5-4611-b9c9-1b1f4353acbb",
   "metadata": {},
   "source": [
    "### 4. Find all nests that have been submerged by any tide line during their incubation period (90 days)"
   ]
  },
  {
   "cell_type": "markdown",
   "id": "be0410a5-5bac-4ea5-b115-fed0dca219ec",
   "metadata": {},
   "source": [
    "4a. Initialize dataframe to hold the years, their nests lost, and their total nests. Will later hold the percent lost.\n",
    "\n",
    "User input works like this:\n",
    "1. If the user is only running one year, an empty DataFrame is created\n",
    "2. If the user is running multiple years, and this is the first run/year, an empty DataFrame is created\n",
    "3. If the user is running multiple years, and this is not the first run/year, the DataFrame is not created so that the new year's data can be appended to the existing data"
   ]
  },
  {
   "cell_type": "code",
   "execution_count": 16,
   "id": "587f6a62-eea7-42a1-9761-1c7d19b0ce8d",
   "metadata": {},
   "outputs": [
    {
     "name": "stdin",
     "output_type": "stream",
     "text": [
      "Will you be running one year, or multiple years? (One, Multi)  multi\n",
      "Is this your first run? (Yes/No)  no\n"
     ]
    }
   ],
   "source": [
    "while 1:\n",
    "    multiRun = input('Will you be running one year, or multiple years? (One, Multi) ')\n",
    "    if multiRun.lower() == 'one':\n",
    "        full_total_Date_Losses_df = pd.DataFrame(columns = ['Year', 'Nests_Lost', 'Total_Nests'])\n",
    "        break\n",
    "    elif multiRun.lower() == 'multi':\n",
    "        firstRun = input('Is this your first run? (Yes/No) ')\n",
    "        if firstRun.lower() == 'yes':\n",
    "            full_total_Date_Losses_df = pd.DataFrame(columns = ['Year', 'Nests_Lost', 'Total_Nests'])\n",
    "            break\n",
    "        elif firstRun.lower() == 'no':\n",
    "            break\n",
    "    else:\n",
    "        print('Enter only one of the choices in ().')\n",
    "        continue"
   ]
  },
  {
   "cell_type": "markdown",
   "id": "032a6013-a2f7-4345-acd4-7b554c5db56e",
   "metadata": {},
   "source": [
    "4b. Load nests file, clean it, add its date, find all lines that are within 90 days of its date of laying, determine number of nests lost"
   ]
  },
  {
   "cell_type": "code",
   "execution_count": null,
   "id": "93f96d06-ca2a-4876-919f-8597f0e22625",
   "metadata": {},
   "outputs": [
    {
     "name": "stdout",
     "output_type": "stream",
     "text": [
      "1\n",
      "2\n",
      "3\n",
      "4\n",
      "5\n",
      "6\n"
     ]
    }
   ],
   "source": [
    "# Load nests file\n",
    "total_Date_Losses_df = pd.DataFrame()\n",
    "total_Nest_Count = 0\n",
    "\n",
    "# This is used as a counter to show progress, because tqdm doesn't work with glob\n",
    "# The total number of nest files is around 100\n",
    "ncount = 1\n",
    "\n",
    "# Iterate through every shapefile in the folder that contains the nest files\n",
    "for filename_path in glob.iglob(f'{gh_path}{year_count}/WPT_SHP/*.shp'):\n",
    "    # print(ncount) # Poor-man's progress bar\n",
    "    \n",
    "    # Load nests file, project it to UTM Zone 20N to match tide lines\n",
    "    temp_shp_wpt = gpd.read_file(filename_path)\n",
    "    if temp_shp_wpt.crs == None:\n",
    "        temp_shp_wpt = temp_shp_wpt.set_crs(epsg=4326)\n",
    "    temp_shp_wpt = temp_shp_wpt.to_crs(epsg=32620)\n",
    "\n",
    "    # Pull the nest lay date from the name of the file and assign it to a date column in the nests geodataframe\n",
    "    filename_wpt = os.path.basename(filename_path)\n",
    "    filedate_wpt = filename_wpt[ :6]\n",
    "    temp_shp_wpt['Date'] = filedate_wpt\n",
    "    # print(f'Current date = {filedate_wpt}')\n",
    "    \n",
    "    # Clean the nests GDF of any outliers\n",
    "    clean_wpt = cleanPoints(temp_shp_wpt)\n",
    "\n",
    "    # Check the clean was successful\n",
    "    # print(temp_shp_wpt)\n",
    "    # print(clean_wpt)\n",
    "    \n",
    "    # Check to see if there are points in the clean nests geodataframe\n",
    "    if len(clean_wpt) > 0:\n",
    "        # Count the total number of nests in the file\n",
    "        nest_count = len(clean_wpt)\n",
    "        \n",
    "        # Create a variable that holds the date for this nest file, then create an actual Python Date variable\n",
    "        wpt_date = filedate_wpt\n",
    "        temp_wpt_date = dt.date(int(f'20{wpt_date[4:6]}'), int(wpt_date[2:4]), int(wpt_date[ :2]))\n",
    "\n",
    "        # Initialize two variables, one to hold the total number of nests lost over the incubation period, the other to hold the incubation period\n",
    "        totalCount = 0\n",
    "        incubation_time = 90\n",
    "\n",
    "        # Begin loop to determine nest loss\n",
    "        for i in range(incubation_time):\n",
    "\n",
    "            # Determine which date the nest line should come from, then convert it to a string for comparison later\n",
    "            temp_wpt_date90 = temp_wpt_date + dt.timedelta(days=i)\n",
    "            temp_wpt_date90_str = temp_wpt_date90.strftime('%d%m%y')\n",
    "\n",
    "            # Iterate through the tracks within each date\n",
    "            for x in range(len(clean_trks_any)):\n",
    "                \n",
    "                # Check if there is a track for the target day\n",
    "                if clean_trks_any.at[x, 'Date'] == temp_wpt_date90_str: \n",
    "                    \n",
    "                    # Pull the track and assign it to a variable\n",
    "                    tideline = clean_trks_any.iloc[[x]]\n",
    "\n",
    "                    # Create a flat cap, one-sided buffer of 50 meters to the east of the line, and a flat cap, one-sided buffer of 2 meters to the west of the line\n",
    "                    lrgBuff = tideline.buffer(-50, cap_style=2, single_sided=True)\n",
    "                    smlBuff = tideline.buffer(2, cap_style=2, single_sided=True)\n",
    "\n",
    "                    # Determine how many nests are loacted within each buffer\n",
    "                    lrgContains = ((lrgBuff.contains(clean_wpt))).tolist()\n",
    "                    smlContains = ((smlBuff.contains(clean_wpt))).tolist()\n",
    "\n",
    "                    # Sum the counts to find the total number of nests within buffers\n",
    "                    count = lrgContains.count(True) + smlContains.count(True)\n",
    "                    totalCount = totalCount + count\n",
    "\n",
    "                    # Create a tuple, then a DataFrame, that contains the Lay date and the number of nests lost from that day\n",
    "                    Date_Losses = [(wpt_date, totalCount)]\n",
    "                    Date_Losses_df = pd.DataFrame.from_records(Date_Losses, columns=['Lay_Date', 'Nests_Lost'])\n",
    "\n",
    "        print(ncount)\n",
    "        # print(Date_Losses_df)\n",
    "        total_Date_Losses_df = total_Date_Losses_df.append(Date_Losses_df)\n",
    "        ncount += 1\n",
    "        total_Nest_Count += nest_count\n",
    "print(total_Date_Losses_df)\n",
    "\n",
    "# Count the total number of nests lost that year and append it to another dataframe, which will hold all the lossess from all the years\n",
    "year_loss_total = total_Date_Losses_df['Nests_Lost'].sum()\n",
    "full_total_Date_Losses = [{'Year': year_count, 'Nests_Lost': year_loss_total, 'Total_Nests': total_Nest_Count}]\n",
    "full_total_Date_Losses_df = full_total_Date_Losses_df.append(full_total_Date_Losses, ignore_index = True)\n",
    "print(full_total_Date_Losses_df)"
   ]
  },
  {
   "cell_type": "markdown",
   "id": "e9f4ef81-db13-4ce9-be5b-0dfceae8b545",
   "metadata": {},
   "source": [
    "4c. If there is only one entry in the DataFrame, calculate percent loss for the first (only) entry. Otherwise, iterate through entries and calculate percent loss for each entry."
   ]
  },
  {
   "cell_type": "code",
   "execution_count": 132,
   "id": "f0183a1c-7acb-48e1-88fc-c09bf04bcd2d",
   "metadata": {},
   "outputs": [
    {
     "name": "stderr",
     "output_type": "stream",
     "text": [
      "100%|██████████| 2/2 [00:00<?, ?it/s]\n"
     ]
    },
    {
     "data": {
      "text/html": [
       "<div>\n",
       "<style scoped>\n",
       "    .dataframe tbody tr th:only-of-type {\n",
       "        vertical-align: middle;\n",
       "    }\n",
       "\n",
       "    .dataframe tbody tr th {\n",
       "        vertical-align: top;\n",
       "    }\n",
       "\n",
       "    .dataframe thead th {\n",
       "        text-align: right;\n",
       "    }\n",
       "</style>\n",
       "<table border=\"1\" class=\"dataframe\">\n",
       "  <thead>\n",
       "    <tr style=\"text-align: right;\">\n",
       "      <th></th>\n",
       "      <th>Year</th>\n",
       "      <th>Nests_Lost</th>\n",
       "      <th>Total_Nests</th>\n",
       "      <th>Percent_Loss</th>\n",
       "    </tr>\n",
       "  </thead>\n",
       "  <tbody>\n",
       "    <tr>\n",
       "      <th>0</th>\n",
       "      <td>2018</td>\n",
       "      <td>305</td>\n",
       "      <td>3192</td>\n",
       "      <td>9.555138</td>\n",
       "    </tr>\n",
       "    <tr>\n",
       "      <th>1</th>\n",
       "      <td>2010</td>\n",
       "      <td>1618</td>\n",
       "      <td>9607</td>\n",
       "      <td>16.841886</td>\n",
       "    </tr>\n",
       "  </tbody>\n",
       "</table>\n",
       "</div>"
      ],
      "text/plain": [
       "   Year Nests_Lost Total_Nests  Percent_Loss\n",
       "0  2018        305        3192      9.555138\n",
       "1  2010       1618        9607     16.841886"
      ]
     },
     "execution_count": 132,
     "metadata": {},
     "output_type": "execute_result"
    }
   ],
   "source": [
    "if len(full_total_Date_Losses_df) > 1:\n",
    "    for x in tqdm(range(len(full_total_Date_Losses_df))):\n",
    "        full_total_Date_Losses_df.at[x, 'Percent_Loss'] = (int(full_total_Date_Losses_df.at[x, 'Nests_Lost']) / int(full_total_Date_Losses_df.at[x, 'Total_Nests']) * 100)\n",
    "else:\n",
    "    full_total_Date_Losses_df['Percent_Loss'] = (int(full_total_Date_Losses_df.at[0, 'Nests_Lost']) / int(full_total_Date_Losses_df.at[0, 'Total_Nests']) * 100)\n",
    "\n",
    "full_total_Date_Losses_df"
   ]
  },
  {
   "cell_type": "markdown",
   "id": "b5ce9bb7-0e64-4dd8-993f-79af7005ec86",
   "metadata": {},
   "source": [
    "### 5. Save the DataFrame of nest loss statistics as a csv"
   ]
  },
  {
   "cell_type": "markdown",
   "id": "800f6047-2bcb-443e-b0b4-592097ddcd5c",
   "metadata": {},
   "source": [
    "Name is set by whether there are multiple years analyzed or not. One year: named by year. Two or more years: names pulled from dataframe and used to name, seperated by '_'."
   ]
  },
  {
   "cell_type": "code",
   "execution_count": 133,
   "id": "ce6c5c57-d14a-4d07-b4d1-96966117c8c6",
   "metadata": {},
   "outputs": [],
   "source": [
    "if len(full_total_Date_Losses_df) > 1:\n",
    "    years_analyzed = []\n",
    "    for idx, rows in full_total_Date_Losses_df.iterrows():\n",
    "        years_temp_list = rows.Year\n",
    "        years_analyzed.append(years_temp_list)\n",
    "    years_for_filename = ('_'.join(years_analyzed))\n",
    "    full_total_Date_Losses_df.to_csv(f'./Lost_Nests_{years_for_filename}.csv')\n",
    "else:\n",
    "    full_total_Date_Losses_df.to_csv(f'./Lost_Nests_{year_count}.csv', index=False)"
   ]
  }
 ],
 "metadata": {
  "kernelspec": {
   "display_name": "Python 3 (ipykernel)",
   "language": "python",
   "name": "python3"
  },
  "language_info": {
   "codemirror_mode": {
    "name": "ipython",
    "version": 3
   },
   "file_extension": ".py",
   "mimetype": "text/x-python",
   "name": "python",
   "nbconvert_exporter": "python",
   "pygments_lexer": "ipython3",
   "version": "3.10.4"
  }
 },
 "nbformat": 4,
 "nbformat_minor": 5
}
